{
 "cells": [
  {
   "cell_type": "code",
   "execution_count": null,
   "metadata": {},
   "outputs": [],
   "source": [
    "import cv2 as cv\n",
    "import numpy as np\n",
    "import os\n",
    "import tensorflow as tf\n",
    "from sklearn.preprocessing import LabelEncoder\n",
    "import pickle\n",
    "from keras_facenet import FaceNet"
   ]
  },
  {
   "attachments": {},
   "cell_type": "markdown",
   "metadata": {},
   "source": [
    "### Real time Face Recognition"
   ]
  },
  {
   "attachments": {},
   "cell_type": "markdown",
   "metadata": {},
   "source": [
    "Load our previously embedded X, Y values"
   ]
  },
  {
   "cell_type": "code",
   "execution_count": null,
   "metadata": {},
   "outputs": [],
   "source": [
    "# Load up, and assign our embeddings\n",
    "face_embeddings = np.load(\"classes/faces_embeddings_done_4classes.npz\")"
   ]
  },
  {
   "attachments": {},
   "cell_type": "markdown",
   "metadata": {},
   "source": [
    "Create our classifier using Cascade\n",
    "\n",
    "<small>We need this classifer model because it is optimized for real-time frame captures from camera</small>\n"
   ]
  },
  {
   "cell_type": "code",
   "execution_count": null,
   "metadata": {},
   "outputs": [],
   "source": [
    "# This is what we will use for Face Detection\n",
    "haarcascade = cv.CascadeClassifier(\"classifier/haarcascade_frontalface_default.xml\")"
   ]
  },
  {
   "attachments": {},
   "cell_type": "markdown",
   "metadata": {},
   "source": [
    "### FaceNet Implementation"
   ]
  },
  {
   "cell_type": "code",
   "execution_count": null,
   "metadata": {},
   "outputs": [],
   "source": [
    "facenet = FaceNet()\n",
    "# Get Y \n",
    "Y = face_embeddings['arr_1']\n",
    "encoder = LabelEncoder()\n",
    "encoder.fit(Y)"
   ]
  },
  {
   "cell_type": "code",
   "execution_count": null,
   "metadata": {},
   "outputs": [],
   "source": [
    "''' List all Authorized Names '''\n",
    "AUTHORIZED_NAMES = []\n",
    "for names in Y:\n",
    "    # Remove extensions\n",
    "    temp_name_rem_ext = names.rstrip(\".png\").rstrip(\".jpeg\") \n",
    "    final_auth_name = temp_name_rem_ext\n",
    "    AUTHORIZED_NAMES.append(final_auth_name)"
   ]
  },
  {
   "attachments": {},
   "cell_type": "markdown",
   "metadata": {},
   "source": [
    "Face Recognition Model"
   ]
  },
  {
   "cell_type": "code",
   "execution_count": null,
   "metadata": {},
   "outputs": [],
   "source": [
    "''' Model '''\n",
    "model = pickle.load(open(\"model/svm_model_160x160.pkl\", \"rb\"))"
   ]
  },
  {
   "attachments": {},
   "cell_type": "markdown",
   "metadata": {},
   "source": [
    "### Real Time Face Capture"
   ]
  },
  {
   "attachments": {},
   "cell_type": "markdown",
   "metadata": {},
   "source": [
    "Using OpenCv, we can initiate to use our in-built webcam to start taking real time frames (caps) streaming\n",
    "\n",
    "We will use each captured frame to analyze and recognize with our Model"
   ]
  },
  {
   "cell_type": "code",
   "execution_count": null,
   "metadata": {},
   "outputs": [],
   "source": [
    "''' Initializing video capture '''\n",
    "cap = cv.VideoCapture(0)"
   ]
  },
  {
   "cell_type": "code",
   "execution_count": null,
   "metadata": {},
   "outputs": [],
   "source": [
    "''' Real time face detection and recognition '''\n",
    "while cap.isOpened():\n",
    "    _, frame = cap.read()     # Read video frames\n",
    "    rgb_img = cv.cvtColor(frame, cv.COLOR_BGR2RGB)\n",
    "    gray_img = cv.cvtColor(frame, cv.COLOR_BGR2GRAY)\n",
    "    faces = haarcascade.detectMultiScale(gray_img, 1.3, 5)\n",
    "    # Bounding areas for detected faces\n",
    "    for x,y,w,h in faces:\n",
    "        img = rgb_img[y:y+h, x:x+w]\n",
    "        img = cv.resize(img, (160,160)) # 1x160x160x3\n",
    "        img = np.expand_dims(img,axis=0)\n",
    "        ypred = facenet.embeddings(img)\n",
    "        face_name = model.predict(ypred)\n",
    "\n",
    "        ''' This is the recognition confidence from our Model '''\n",
    "        embedding_scores = model.decision_function(ypred)\n",
    "        print(\"Scores: \", embedding_scores)\n",
    "        recognition_score = model.decision_function(ypred)[0]\n",
    "        print(\"Confidence: \", recognition_score[0]*10)\n",
    "        \n",
    "        ''' Fetching the names from the array '''\n",
    "        final_name = encoder.inverse_transform(face_name)[0]\n",
    "        ''' Remove the extensions '''\n",
    "        rem_ext = final_name.rstrip(\".png\").rstrip(\".jpeg\")\n",
    "        final_name = rem_ext\n",
    "\n",
    "        # Check if the face recognized is authorized or not\n",
    "        if final_name in AUTHORIZED_NAMES:\n",
    "            # Then, we proceed to render them real time and mark as Authorized\n",
    "            ''' Display to console the recognized face '''\n",
    "            print(\"Recognized: \", final_name)\n",
    "            print(\"\\t ==> Status: Authorized\")\n",
    "            cv.rectangle(frame, (x,y), (x+w,y+h), (0,255,0), 10)                        # Green box (BGR)\n",
    "            # Ender the name on screen real-time \n",
    "            cv.putText(frame, str(final_name), (x,y-10), cv.FONT_HERSHEY_SIMPLEX,       # Blue text             \n",
    "                    1, (255,0,0), 3, cv.LINE_AA)        \n",
    "        \n",
    "        else: \n",
    "            print(\"\\t ==> Status: Unauthorized\")\n",
    "            cv.rectangle(frame, (x,y), (x+w,y+h), (255,0,0), 10)                        # Red box\n",
    "            # Display \"Unauthorized\" text on screen real-time\n",
    "            cv.putText(frame, \"Unauthorized\", (x,y-10), cv.FONT_HERSHEY_SIMPLEX,        # Red text\n",
    "                    1, (0,0,255), 3, cv.LINE_AA)\n",
    "        \n",
    "    cv.imshow(\"Face Recognition:\", frame)\n",
    "    if cv.waitKey(1) & ord('q') == 27:\n",
    "        break\n",
    "\n",
    "cap.release()\n",
    "cv.destroyAllWindows"
   ]
  }
 ],
 "metadata": {
  "kernelspec": {
   "display_name": "Python 3",
   "language": "python",
   "name": "python3"
  },
  "language_info": {
   "codemirror_mode": {
    "name": "ipython",
    "version": 3
   },
   "file_extension": ".py",
   "mimetype": "text/x-python",
   "name": "python",
   "nbconvert_exporter": "python",
   "pygments_lexer": "ipython3",
   "version": "3.10.6"
  },
  "orig_nbformat": 4
 },
 "nbformat": 4,
 "nbformat_minor": 2
}
